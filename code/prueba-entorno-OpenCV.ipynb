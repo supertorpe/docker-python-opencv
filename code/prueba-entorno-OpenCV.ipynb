{
 "cells": [
  {
   "cell_type": "markdown",
   "id": "f975237a",
   "metadata": {},
   "source": [
    "# Prueba del entorno con OpenCV\n",
    "\n",
    "NOTA: todas las imágenes son de pixabay"
   ]
  },
  {
   "cell_type": "markdown",
   "id": "67634c60",
   "metadata": {},
   "source": [
    "### Sentencias import"
   ]
  },
  {
   "cell_type": "code",
   "execution_count": 1,
   "id": "dbeee256",
   "metadata": {},
   "outputs": [],
   "source": [
    "import numpy as np\n",
    "import cv2\n",
    "import sys"
   ]
  },
  {
   "cell_type": "markdown",
   "id": "affd5c77",
   "metadata": {},
   "source": [
    "### Consultar la versión de OpenCV"
   ]
  },
  {
   "cell_type": "code",
   "execution_count": 2,
   "id": "2785b003",
   "metadata": {
    "scrolled": true
   },
   "outputs": [
    {
     "name": "stdout",
     "output_type": "stream",
     "text": [
      "4.8.1\n"
     ]
    }
   ],
   "source": [
    "# Consultar la versión de OPENCV\n",
    "print(cv2.__version__)"
   ]
  },
  {
   "cell_type": "markdown",
   "id": "5c3a076a",
   "metadata": {},
   "source": [
    "### Lectura de un fichero de imagen y volcado del contenido en una ventana"
   ]
  },
  {
   "cell_type": "code",
   "execution_count": 3,
   "id": "a710e319",
   "metadata": {},
   "outputs": [],
   "source": [
    "img = cv2.imread(\"images/korea.jpg\")       # Lectura de la imagen (situada en subdirectorio \"images\" del directorio de trabajo)\n",
    "if img is None:\n",
    "    sys.exit(\"Could not read the image.\")\n",
    "cv2.imshow(\"Image\",img)                     # Tamaño de ventana ajustada al tamaño de la imagen\n",
    "cv2.waitKey(0)                              # Espera hasta que se pulse cualquier tecla\n",
    "cv2.destroyWindow(\"Image\")                  # Alternativa: cv2.destroyAllWindows(). Ver siguiente ejemplo"
   ]
  },
  {
   "cell_type": "markdown",
   "id": "1a25cbda",
   "metadata": {},
   "source": [
    "### Lectura de un fichero de imagen y volcado del contenido en dos ventanas"
   ]
  },
  {
   "cell_type": "code",
   "execution_count": 4,
   "id": "6ce12540",
   "metadata": {},
   "outputs": [],
   "source": [
    "img = cv2.imread(\"images/korea.jpg\")    # Lectura de la imagen (situada en subdirectorio \"images\" del directorio de trabajo)\n",
    "cv2.imshow(\"Image\",img)                 # Tamaño de ventana ajustada al tamaño de la imagen\n",
    "cv2.imshow(\"Image 2\",img)\n",
    "cv2.waitKey(0)\n",
    "cv2.destroyAllWindows()"
   ]
  },
  {
   "cell_type": "markdown",
   "id": "611f85ab",
   "metadata": {},
   "source": [
    "### Lectura de una imagen con difentes flags y consulta de las dimensión del array de Numpy"
   ]
  },
  {
   "cell_type": "code",
   "execution_count": 5,
   "id": "d407ad94",
   "metadata": {
    "scrolled": true
   },
   "outputs": [
    {
     "name": "stdout",
     "output_type": "stream",
     "text": [
      "Tipo de datos de la imagen  <class 'numpy.ndarray'>\n",
      "Dimensiones de la imagen: (427, 640, 3)\n"
     ]
    }
   ],
   "source": [
    "# SI NO SE INDICA FLAG EN EL MÉTODO \"imread\", SE TOMA EL VALOR POR DEFECTO, QUE ES cv2.IMREAD_COLOR.\n",
    "# SE IGNORA CANAL DE TRANSPARENCIA AUNQUE EXISTA\n",
    "img = cv2.imread(\"images/mujer.jpg\")                 # Lectura de la imagen (situada en subdirectorio \"images\" del directorio de trabajo)\n",
    "print(\"Tipo de datos de la imagen \", type(img))      # Tipo de dato de la variable img -> numpy.ndarray\n",
    "print('Dimensiones de la imagen:', img.shape)        # Dimensiones de la imagen\n",
    "cv2.imshow(\"Imagen\",img)                 \n",
    "cv2.waitKey(0)\n",
    "cv2.destroyAllWindows()"
   ]
  },
  {
   "cell_type": "markdown",
   "id": "cff95d16-e1c3-40fa-95b2-2ce642218551",
   "metadata": {},
   "source": [
    "### Separación de los tres canales de color de una imagen"
   ]
  },
  {
   "cell_type": "code",
   "execution_count": 9,
   "id": "623cd536-e80f-4842-af8d-014c2d22fa26",
   "metadata": {},
   "outputs": [
    {
     "name": "stdout",
     "output_type": "stream",
     "text": [
      "Tipo de datos de la imagen  <class 'numpy.ndarray'>\n",
      "Dimensiones de la imagen: (213, 640, 3)\n"
     ]
    }
   ],
   "source": [
    "img = cv2.imread(\"images/tomates.jpg\")            # Lectura de la imagen (situada en subdirectorio \"images\" del directorio de trabajo)\n",
    "print('Dimensiones de la imagen:', img.shape)\n",
    "cv2.imshow(\"Imagen\",img)    \n",
    "\n",
    "(B, G, R) = cv2.split(img)      # Separación de los tres canales con la función split\n",
    " \n",
    "# Mostrar cada canal separado\n",
    "cv2.imshow(\"Red\", R)\n",
    "cv2.imshow(\"Green\", G)\n",
    "cv2.imshow(\"Blue\", B)\n",
    "\n",
    "cv2.waitKey(0)\n",
    "cv2.destroyAllWindows()"
   ]
  },
  {
   "cell_type": "markdown",
   "id": "9d705e2f-f5e4-40a0-8fd0-f53c27271374",
   "metadata": {},
   "source": [
    "### Detección de bordes"
   ]
  },
  {
   "cell_type": "code",
   "execution_count": 7,
   "id": "c79baf7c-3bf3-4c58-89a3-559251e4aa93",
   "metadata": {},
   "outputs": [],
   "source": [
    "img = cv2.imread(\"images/mujer2.png\")              # Lectura de la imagen (situada en subdirectorio \"images\" del directorio de trabajo)\n",
    "\n",
    "grayImg = cv2.cvtColor(img, cv2.COLOR_BGR2GRAY)    # Conversión de la imagen a escala de grises\n",
    "\n",
    "cannyImg = cv2.Canny(grayImg, threshold1=30, threshold2=100)     # Detección de bordes\n",
    "\n",
    "# Mostrar las ventanas con las tres imágenes \n",
    "cv2.imshow(\"Imagen original\", img)\n",
    "cv2.imshow(\"Imagen en escala de grises\", grayImg)\n",
    "cv2.imshow(\"Imagen bordes\", cannyImg)\n",
    "cv2.waitKey(0)\n",
    "cv2.destroyAllWindows()"
   ]
  },
  {
   "cell_type": "markdown",
   "id": "8fd80056",
   "metadata": {},
   "source": [
    "### Desplegar ayuda sobre un método\n"
   ]
  },
  {
   "cell_type": "code",
   "execution_count": 8,
   "id": "a8d63a8e",
   "metadata": {},
   "outputs": [
    {
     "name": "stdout",
     "output_type": "stream",
     "text": [
      "Help on built-in function imshow:\n",
      "\n",
      "imshow(...)\n",
      "    imshow(winname, mat) -> None\n",
      "    .   @brief Displays an image in the specified window.\n",
      "    .   \n",
      "    .   The function imshow displays an image in the specified window. If the window was created with the\n",
      "    .   cv::WINDOW_AUTOSIZE flag, the image is shown with its original size, however it is still limited by the screen resolution.\n",
      "    .   Otherwise, the image is scaled to fit the window. The function may scale the image, depending on its depth:\n",
      "    .   \n",
      "    .   -   If the image is 8-bit unsigned, it is displayed as is.\n",
      "    .   -   If the image is 16-bit unsigned, the pixels are divided by 256. That is, the\n",
      "    .       value range [0,255\\*256] is mapped to [0,255].\n",
      "    .   -   If the image is 32-bit or 64-bit floating-point, the pixel values are multiplied by 255. That is, the\n",
      "    .       value range [0,1] is mapped to [0,255].\n",
      "    .   -   32-bit integer images are not processed anymore due to ambiguouty of required transform.\n",
      "    .       Convert to 8-bit unsigned matrix using a custom preprocessing specific to image's context.\n",
      "    .   \n",
      "    .   If window was created with OpenGL support, cv::imshow also support ogl::Buffer , ogl::Texture2D and\n",
      "    .   cuda::GpuMat as input.\n",
      "    .   \n",
      "    .   If the window was not created before this function, it is assumed creating a window with cv::WINDOW_AUTOSIZE.\n",
      "    .   \n",
      "    .   If you need to show an image that is bigger than the screen resolution, you will need to call namedWindow(\"\", WINDOW_NORMAL) before the imshow.\n",
      "    .   \n",
      "    .   @note This function should be followed by a call to cv::waitKey or cv::pollKey to perform GUI\n",
      "    .   housekeeping tasks that are necessary to actually show the given image and make the window respond\n",
      "    .   to mouse and keyboard events. Otherwise, it won't display the image and the window might lock up.\n",
      "    .   For example, **waitKey(0)** will display the window infinitely until any keypress (it is suitable\n",
      "    .   for image display). **waitKey(25)** will display a frame and wait approximately 25 ms for a key\n",
      "    .   press (suitable for displaying a video frame-by-frame). To remove the window, use cv::destroyWindow.\n",
      "    .   \n",
      "    .   @note\n",
      "    .   \n",
      "    .   [__Windows Backend Only__] Pressing Ctrl+C will copy the image to the clipboard.\n",
      "    .   \n",
      "    .   [__Windows Backend Only__] Pressing Ctrl+S will show a dialog to save the image.\n",
      "    .   \n",
      "    .   @param winname Name of the window.\n",
      "    .   @param mat Image to be shown.\n",
      "\n"
     ]
    }
   ],
   "source": [
    "help(cv2.imshow)"
   ]
  }
 ],
 "metadata": {
  "kernelspec": {
   "display_name": "Python 3 (ipykernel)",
   "language": "python",
   "name": "python3"
  },
  "language_info": {
   "codemirror_mode": {
    "name": "ipython",
    "version": 3
   },
   "file_extension": ".py",
   "mimetype": "text/x-python",
   "name": "python",
   "nbconvert_exporter": "python",
   "pygments_lexer": "ipython3",
   "version": "3.11.6"
  }
 },
 "nbformat": 4,
 "nbformat_minor": 5
}
